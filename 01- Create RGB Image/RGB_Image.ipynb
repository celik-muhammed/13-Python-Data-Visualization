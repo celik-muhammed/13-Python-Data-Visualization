{
 "cells": [
  {
   "cell_type": "code",
   "execution_count": 1,
   "metadata": {},
   "outputs": [],
   "source": [
    "# MuCe: Create RGB Image and save Local\n",
    "import io\n",
    "import numpy as np\n",
    "from PIL import Image\n",
    "\n",
    "height, width = 300, 500\n",
    "red, green, blue = 255, 0, 0\n",
    "\n",
    "arr = np.full((height, width, 3), [red, green, blue])\n",
    "\n",
    "im = Image.fromarray(arr.astype('uint8'))\n",
    "im.save('RGB_Image.jpg')  # save\n",
    "im.show()  # show "
   ]
  },
  {
   "cell_type": "code",
   "execution_count": 2,
   "metadata": {},
   "outputs": [
    {
     "data": {
      "image/png": "[encoded data removed]",
      "text/plain": [
       "<Figure size 432x288 with 1 Axes>"
      ]
     },
     "metadata": {
      "needs_background": "light"
     },
     "output_type": "display_data"
    }
   ],
   "source": [
    "# MuCe: Create RGB Image and save Local\n",
    "import io\n",
    "import numpy as np\n",
    "import matplotlib.pyplot as plt\n",
    "\n",
    "from PIL import Image\n",
    "\n",
    "height, width = 300, 500\n",
    "red, green, blue = 255, 0, 0\n",
    "\n",
    "arr = np.full((height, width, 3), [red, green, blue])\n",
    "\n",
    "plt.imshow(arr)  # show inline\n",
    "\n",
    "im = Image.fromarray(arr.astype('uint8'))\n",
    "im.save('RGB_Image.jpg')  # save\n",
    "im.show()  # show "
   ]
  }
 ],
 "metadata": {
  "interpreter": {
   "hash": "0dd272924c7cc597c5889018966c2ccb6c9651b4aec44649117dbf66b8c76eee"
  },
  "kernelspec": {
   "display_name": "Python 3.10.4 64-bit",
   "language": "python",
   "name": "python3"
  },
  "language_info": {
   "codemirror_mode": {
    "name": "ipython",
    "version": 3
   },
   "file_extension": ".py",
   "mimetype": "text/x-python",
   "name": "python",
   "nbconvert_exporter": "python",
   "pygments_lexer": "ipython3",
   "version": "3.10.4"
  },
  "orig_nbformat": 4
 },
 "nbformat": 4,
 "nbformat_minor": 2
}
